{
 "cells": [
  {
   "cell_type": "markdown",
   "metadata": {},
   "source": [
    "**Gabriel Abdulai\n",
    "*Exploring supervised machine learning algorithm for understanding \n",
    "insights in my yearly utilities data\n",
    "#I want to develop a supervised machine learning algorithm that can predict my monthly electricity bill using\n",
    "#other utitilites at home"
   ]
  },
  {
   "cell_type": "code",
   "execution_count": 25,
   "metadata": {},
   "outputs": [],
   "source": [
    "#import python libraries\n",
    "import numpy as np\n",
    "import pandas as pd\n",
    "import matplotlib.pyplot as plt\n",
    "import sklearn"
   ]
  },
  {
   "cell_type": "code",
   "execution_count": 26,
   "metadata": {},
   "outputs": [
    {
     "data": {
      "text/html": [
       "<div>\n",
       "<style scoped>\n",
       "    .dataframe tbody tr th:only-of-type {\n",
       "        vertical-align: middle;\n",
       "    }\n",
       "\n",
       "    .dataframe tbody tr th {\n",
       "        vertical-align: top;\n",
       "    }\n",
       "\n",
       "    .dataframe thead th {\n",
       "        text-align: right;\n",
       "    }\n",
       "</style>\n",
       "<table border=\"1\" class=\"dataframe\">\n",
       "  <thead>\n",
       "    <tr style=\"text-align: right;\">\n",
       "      <th></th>\n",
       "      <th>ID</th>\n",
       "      <th>Month</th>\n",
       "      <th>Kwh</th>\n",
       "      <th>Power_Cost</th>\n",
       "      <th>Gallons</th>\n",
       "      <th>Water_Cost</th>\n",
       "      <th>Sewer_CCF</th>\n",
       "      <th>Year</th>\n",
       "    </tr>\n",
       "  </thead>\n",
       "  <tbody>\n",
       "    <tr>\n",
       "      <th>0</th>\n",
       "      <td>1</td>\n",
       "      <td>January</td>\n",
       "      <td>936</td>\n",
       "      <td>123.99</td>\n",
       "      <td>2244</td>\n",
       "      <td>25.69</td>\n",
       "      <td>2</td>\n",
       "      <td>2019</td>\n",
       "    </tr>\n",
       "    <tr>\n",
       "      <th>1</th>\n",
       "      <td>2</td>\n",
       "      <td>February</td>\n",
       "      <td>669</td>\n",
       "      <td>101.84</td>\n",
       "      <td>2244</td>\n",
       "      <td>25.69</td>\n",
       "      <td>3</td>\n",
       "      <td>2019</td>\n",
       "    </tr>\n",
       "    <tr>\n",
       "      <th>2</th>\n",
       "      <td>3</td>\n",
       "      <td>March</td>\n",
       "      <td>889</td>\n",
       "      <td>120.99</td>\n",
       "      <td>1496</td>\n",
       "      <td>25.69</td>\n",
       "      <td>2</td>\n",
       "      <td>2019</td>\n",
       "    </tr>\n",
       "    <tr>\n",
       "      <th>3</th>\n",
       "      <td>4</td>\n",
       "      <td>April</td>\n",
       "      <td>820</td>\n",
       "      <td>86.60</td>\n",
       "      <td>2244</td>\n",
       "      <td>25.97</td>\n",
       "      <td>2</td>\n",
       "      <td>2019</td>\n",
       "    </tr>\n",
       "    <tr>\n",
       "      <th>4</th>\n",
       "      <td>5</td>\n",
       "      <td>May</td>\n",
       "      <td>513</td>\n",
       "      <td>58.86</td>\n",
       "      <td>2244</td>\n",
       "      <td>25.97</td>\n",
       "      <td>1</td>\n",
       "      <td>2019</td>\n",
       "    </tr>\n",
       "  </tbody>\n",
       "</table>\n",
       "</div>"
      ],
      "text/plain": [
       "   ID     Month  Kwh  Power_Cost  Gallons  Water_Cost  Sewer_CCF  Year\n",
       "0   1   January  936      123.99     2244       25.69          2  2019\n",
       "1   2  February  669      101.84     2244       25.69          3  2019\n",
       "2   3     March  889      120.99     1496       25.69          2  2019\n",
       "3   4     April  820       86.60     2244       25.97          2  2019\n",
       "4   5       May  513       58.86     2244       25.97          1  2019"
      ]
     },
     "execution_count": 26,
     "metadata": {},
     "output_type": "execute_result"
    }
   ],
   "source": [
    "#import dataset from \n",
    "df_utl = pd.read_csv('gab_utilities.csv')\n",
    "df_utl.head()"
   ]
  },
  {
   "cell_type": "code",
   "execution_count": 27,
   "metadata": {},
   "outputs": [
    {
     "name": "stdout",
     "output_type": "stream",
     "text": [
      "<class 'pandas.core.frame.DataFrame'>\n",
      "RangeIndex: 24 entries, 0 to 23\n",
      "Data columns (total 8 columns):\n",
      " #   Column      Non-Null Count  Dtype  \n",
      "---  ------      --------------  -----  \n",
      " 0   ID          24 non-null     int64  \n",
      " 1   Month       24 non-null     object \n",
      " 2   Kwh         24 non-null     int64  \n",
      " 3   Power_Cost  24 non-null     float64\n",
      " 4   Gallons     24 non-null     int64  \n",
      " 5   Water_Cost  24 non-null     float64\n",
      " 6   Sewer_CCF   24 non-null     int64  \n",
      " 7   Year        24 non-null     int64  \n",
      "dtypes: float64(2), int64(5), object(1)\n",
      "memory usage: 1.6+ KB\n"
     ]
    }
   ],
   "source": [
    "#data information\n",
    "df_utl.info()"
   ]
  },
  {
   "cell_type": "code",
   "execution_count": 28,
   "metadata": {},
   "outputs": [
    {
     "data": {
      "text/html": [
       "<div>\n",
       "<style scoped>\n",
       "    .dataframe tbody tr th:only-of-type {\n",
       "        vertical-align: middle;\n",
       "    }\n",
       "\n",
       "    .dataframe tbody tr th {\n",
       "        vertical-align: top;\n",
       "    }\n",
       "\n",
       "    .dataframe thead th {\n",
       "        text-align: right;\n",
       "    }\n",
       "</style>\n",
       "<table border=\"1\" class=\"dataframe\">\n",
       "  <thead>\n",
       "    <tr style=\"text-align: right;\">\n",
       "      <th></th>\n",
       "      <th>ID</th>\n",
       "      <th>Kwh</th>\n",
       "      <th>Power_Cost</th>\n",
       "      <th>Gallons</th>\n",
       "      <th>Water_Cost</th>\n",
       "      <th>Sewer_CCF</th>\n",
       "      <th>Year</th>\n",
       "    </tr>\n",
       "  </thead>\n",
       "  <tbody>\n",
       "    <tr>\n",
       "      <th>count</th>\n",
       "      <td>24.000000</td>\n",
       "      <td>24.000000</td>\n",
       "      <td>24.000000</td>\n",
       "      <td>24.000000</td>\n",
       "      <td>24.000000</td>\n",
       "      <td>24.000000</td>\n",
       "      <td>24.000000</td>\n",
       "    </tr>\n",
       "    <tr>\n",
       "      <th>mean</th>\n",
       "      <td>12.500000</td>\n",
       "      <td>762.666667</td>\n",
       "      <td>95.618750</td>\n",
       "      <td>2150.500000</td>\n",
       "      <td>29.025000</td>\n",
       "      <td>2.916667</td>\n",
       "      <td>2019.500000</td>\n",
       "    </tr>\n",
       "    <tr>\n",
       "      <th>std</th>\n",
       "      <td>7.071068</td>\n",
       "      <td>233.103199</td>\n",
       "      <td>23.553649</td>\n",
       "      <td>741.877114</td>\n",
       "      <td>5.032763</td>\n",
       "      <td>1.100066</td>\n",
       "      <td>0.510754</td>\n",
       "    </tr>\n",
       "    <tr>\n",
       "      <th>min</th>\n",
       "      <td>1.000000</td>\n",
       "      <td>425.000000</td>\n",
       "      <td>56.460000</td>\n",
       "      <td>748.000000</td>\n",
       "      <td>20.700000</td>\n",
       "      <td>1.000000</td>\n",
       "      <td>2019.000000</td>\n",
       "    </tr>\n",
       "    <tr>\n",
       "      <th>25%</th>\n",
       "      <td>6.750000</td>\n",
       "      <td>531.000000</td>\n",
       "      <td>76.347500</td>\n",
       "      <td>1496.000000</td>\n",
       "      <td>25.500000</td>\n",
       "      <td>2.000000</td>\n",
       "      <td>2019.000000</td>\n",
       "    </tr>\n",
       "    <tr>\n",
       "      <th>50%</th>\n",
       "      <td>12.500000</td>\n",
       "      <td>785.500000</td>\n",
       "      <td>95.845000</td>\n",
       "      <td>2244.000000</td>\n",
       "      <td>25.970000</td>\n",
       "      <td>3.000000</td>\n",
       "      <td>2019.500000</td>\n",
       "    </tr>\n",
       "    <tr>\n",
       "      <th>75%</th>\n",
       "      <td>18.250000</td>\n",
       "      <td>954.750000</td>\n",
       "      <td>117.050000</td>\n",
       "      <td>2244.000000</td>\n",
       "      <td>30.580000</td>\n",
       "      <td>4.000000</td>\n",
       "      <td>2020.000000</td>\n",
       "    </tr>\n",
       "    <tr>\n",
       "      <th>max</th>\n",
       "      <td>24.000000</td>\n",
       "      <td>1174.000000</td>\n",
       "      <td>135.050000</td>\n",
       "      <td>3740.000000</td>\n",
       "      <td>40.250000</td>\n",
       "      <td>5.000000</td>\n",
       "      <td>2020.000000</td>\n",
       "    </tr>\n",
       "  </tbody>\n",
       "</table>\n",
       "</div>"
      ],
      "text/plain": [
       "              ID          Kwh  Power_Cost      Gallons  Water_Cost  Sewer_CCF  \\\n",
       "count  24.000000    24.000000   24.000000    24.000000   24.000000  24.000000   \n",
       "mean   12.500000   762.666667   95.618750  2150.500000   29.025000   2.916667   \n",
       "std     7.071068   233.103199   23.553649   741.877114    5.032763   1.100066   \n",
       "min     1.000000   425.000000   56.460000   748.000000   20.700000   1.000000   \n",
       "25%     6.750000   531.000000   76.347500  1496.000000   25.500000   2.000000   \n",
       "50%    12.500000   785.500000   95.845000  2244.000000   25.970000   3.000000   \n",
       "75%    18.250000   954.750000  117.050000  2244.000000   30.580000   4.000000   \n",
       "max    24.000000  1174.000000  135.050000  3740.000000   40.250000   5.000000   \n",
       "\n",
       "              Year  \n",
       "count    24.000000  \n",
       "mean   2019.500000  \n",
       "std       0.510754  \n",
       "min    2019.000000  \n",
       "25%    2019.000000  \n",
       "50%    2019.500000  \n",
       "75%    2020.000000  \n",
       "max    2020.000000  "
      ]
     },
     "execution_count": 28,
     "metadata": {},
     "output_type": "execute_result"
    }
   ],
   "source": [
    "#descriptive stats\n",
    "df_utl.describe()"
   ]
  },
  {
   "cell_type": "code",
   "execution_count": 29,
   "metadata": {},
   "outputs": [
    {
     "data": {
      "text/html": [
       "<div>\n",
       "<style scoped>\n",
       "    .dataframe tbody tr th:only-of-type {\n",
       "        vertical-align: middle;\n",
       "    }\n",
       "\n",
       "    .dataframe tbody tr th {\n",
       "        vertical-align: top;\n",
       "    }\n",
       "\n",
       "    .dataframe thead th {\n",
       "        text-align: right;\n",
       "    }\n",
       "</style>\n",
       "<table border=\"1\" class=\"dataframe\">\n",
       "  <thead>\n",
       "    <tr style=\"text-align: right;\">\n",
       "      <th></th>\n",
       "      <th>ID</th>\n",
       "      <th>Kwh</th>\n",
       "      <th>Power_Cost</th>\n",
       "      <th>Gallons</th>\n",
       "      <th>Water_Cost</th>\n",
       "      <th>Sewer_CCF</th>\n",
       "      <th>Year</th>\n",
       "    </tr>\n",
       "  </thead>\n",
       "  <tbody>\n",
       "    <tr>\n",
       "      <th>ID</th>\n",
       "      <td>1.000000</td>\n",
       "      <td>-0.149562</td>\n",
       "      <td>-0.283257</td>\n",
       "      <td>0.424666</td>\n",
       "      <td>0.625436</td>\n",
       "      <td>0.447155</td>\n",
       "      <td>0.866778</td>\n",
       "    </tr>\n",
       "    <tr>\n",
       "      <th>Kwh</th>\n",
       "      <td>-0.149562</td>\n",
       "      <td>1.000000</td>\n",
       "      <td>0.876868</td>\n",
       "      <td>0.090268</td>\n",
       "      <td>0.106859</td>\n",
       "      <td>0.357983</td>\n",
       "      <td>-0.245039</td>\n",
       "    </tr>\n",
       "    <tr>\n",
       "      <th>Power_Cost</th>\n",
       "      <td>-0.283257</td>\n",
       "      <td>0.876868</td>\n",
       "      <td>1.000000</td>\n",
       "      <td>-0.040450</td>\n",
       "      <td>-0.021193</td>\n",
       "      <td>0.256295</td>\n",
       "      <td>-0.298544</td>\n",
       "    </tr>\n",
       "    <tr>\n",
       "      <th>Gallons</th>\n",
       "      <td>0.424666</td>\n",
       "      <td>0.090268</td>\n",
       "      <td>-0.040450</td>\n",
       "      <td>1.000000</td>\n",
       "      <td>0.938409</td>\n",
       "      <td>0.707329</td>\n",
       "      <td>0.300399</td>\n",
       "    </tr>\n",
       "    <tr>\n",
       "      <th>Water_Cost</th>\n",
       "      <td>0.625436</td>\n",
       "      <td>0.106859</td>\n",
       "      <td>-0.021193</td>\n",
       "      <td>0.938409</td>\n",
       "      <td>1.000000</td>\n",
       "      <td>0.805817</td>\n",
       "      <td>0.446537</td>\n",
       "    </tr>\n",
       "    <tr>\n",
       "      <th>Sewer_CCF</th>\n",
       "      <td>0.447155</td>\n",
       "      <td>0.357983</td>\n",
       "      <td>0.256295</td>\n",
       "      <td>0.707329</td>\n",
       "      <td>0.805817</td>\n",
       "      <td>1.000000</td>\n",
       "      <td>0.232147</td>\n",
       "    </tr>\n",
       "    <tr>\n",
       "      <th>Year</th>\n",
       "      <td>0.866778</td>\n",
       "      <td>-0.245039</td>\n",
       "      <td>-0.298544</td>\n",
       "      <td>0.300399</td>\n",
       "      <td>0.446537</td>\n",
       "      <td>0.232147</td>\n",
       "      <td>1.000000</td>\n",
       "    </tr>\n",
       "  </tbody>\n",
       "</table>\n",
       "</div>"
      ],
      "text/plain": [
       "                  ID       Kwh  Power_Cost   Gallons  Water_Cost  Sewer_CCF  \\\n",
       "ID          1.000000 -0.149562   -0.283257  0.424666    0.625436   0.447155   \n",
       "Kwh        -0.149562  1.000000    0.876868  0.090268    0.106859   0.357983   \n",
       "Power_Cost -0.283257  0.876868    1.000000 -0.040450   -0.021193   0.256295   \n",
       "Gallons     0.424666  0.090268   -0.040450  1.000000    0.938409   0.707329   \n",
       "Water_Cost  0.625436  0.106859   -0.021193  0.938409    1.000000   0.805817   \n",
       "Sewer_CCF   0.447155  0.357983    0.256295  0.707329    0.805817   1.000000   \n",
       "Year        0.866778 -0.245039   -0.298544  0.300399    0.446537   0.232147   \n",
       "\n",
       "                Year  \n",
       "ID          0.866778  \n",
       "Kwh        -0.245039  \n",
       "Power_Cost -0.298544  \n",
       "Gallons     0.300399  \n",
       "Water_Cost  0.446537  \n",
       "Sewer_CCF   0.232147  \n",
       "Year        1.000000  "
      ]
     },
     "execution_count": 29,
     "metadata": {},
     "output_type": "execute_result"
    }
   ],
   "source": [
    "#find correlation between parameters\n",
    "df_utl.corr()"
   ]
  },
  {
   "cell_type": "code",
   "execution_count": 30,
   "metadata": {},
   "outputs": [
    {
     "data": {
      "text/plain": [
       "<seaborn.axisgrid.PairGrid at 0x254732e4af0>"
      ]
     },
     "execution_count": 30,
     "metadata": {},
     "output_type": "execute_result"
    },
    {
     "data": {
      "image/png": "[encoded data removed]",
      "text/plain": [
       "<Figure size 1260x1260 with 56 Axes>"
      ]
     },
     "metadata": {
      "needs_background": "light"
     },
     "output_type": "display_data"
    }
   ],
   "source": [
    "#plot data\n",
    "import seaborn as sns\n",
    "sns.pairplot(data=df_utl)"
   ]
  },
  {
   "cell_type": "code",
   "execution_count": 31,
   "metadata": {},
   "outputs": [
    {
     "data": {
      "text/plain": [
       "<matplotlib.collections.PathCollection at 0x254759a8160>"
      ]
     },
     "execution_count": 31,
     "metadata": {},
     "output_type": "execute_result"
    },
    {
     "data": {
      "image/png": "[encoded data removed]",
      "text/plain": [
       "<Figure size 432x288 with 1 Axes>"
      ]
     },
     "metadata": {
      "needs_background": "light"
     },
     "output_type": "display_data"
    }
   ],
   "source": [
    "#scatter plot\n",
    "plt.xlabel('Kwh') #kilo watt hour\n",
    "plt.ylabel('Power_Cost') #cost of the power\n",
    "plt.title('Kwh vs Cost')\n",
    "plt.scatter(df_utl[\"Kwh\"], df_utl['Power_Cost'], c = \"b\")"
   ]
  },
  {
   "cell_type": "code",
   "execution_count": 32,
   "metadata": {},
   "outputs": [
    {
     "data": {
      "text/plain": [
       "<matplotlib.collections.PathCollection at 0x25475fb8c40>"
      ]
     },
     "execution_count": 32,
     "metadata": {},
     "output_type": "execute_result"
    },
    {
     "data": {
      "image/png": "[encoded data removed]",
      "text/plain": [
       "<Figure size 432x288 with 1 Axes>"
      ]
     },
     "metadata": {
      "needs_background": "light"
     },
     "output_type": "display_data"
    }
   ],
   "source": [
    "#scatter plot\n",
    "plt.xlabel('Gallons') #kilo watt hour\n",
    "plt.ylabel('Water_Cost') #cost of the power\n",
    "plt.title('Gallons Used vs Cost')\n",
    "plt.scatter(df_utl[\"Gallons\"], df_utl['Water_Cost'], c = \"g\")"
   ]
  },
  {
   "cell_type": "code",
   "execution_count": 33,
   "metadata": {},
   "outputs": [],
   "source": [
    "#develop regression model\n",
    "X = df_utl.drop(['ID', 'Year', 'Month', 'Power_Cost'], axis = 1)\n",
    "y = df_utl['Power_Cost']"
   ]
  },
  {
   "cell_type": "code",
   "execution_count": 34,
   "metadata": {
    "collapsed": true
   },
   "outputs": [
    {
     "name": "stdout",
     "output_type": "stream",
     "text": [
      "     Kwh  Gallons  Water_Cost  Sewer_CCF\n",
      "0    936     2244       25.69          2\n",
      "1    669     2244       25.69          3\n",
      "2    889     1496       25.69          2\n",
      "3    820     2244       25.97          2\n",
      "4    513     2244       25.97          1\n",
      "5    493     1496       25.50          2\n",
      "6    870     1496       25.50          4\n",
      "7   1174     1496       25.50          4\n",
      "8   1088     1496       25.50          3\n",
      "9   1029     1496       25.50          2\n",
      "10   806     2244       30.30          3\n",
      "11   536     2992       35.09          4\n",
      "12   632      748       20.70          1\n",
      "13   765     1496       25.50          2\n",
      "14   425     1496       25.50          2\n",
      "15   648     2992       35.08          4\n",
      "16   594     2244       30.30          3\n",
      "17   489     2244       30.30          3\n",
      "18   927     2992       35.08          4\n",
      "19  1011     3740       40.25          5\n",
      "20  1028     3740       40.25          5\n",
      "21  1019     2244       30.58          3\n",
      "22   516     2244       30.58          3\n",
      "23   427     2244       30.58          3\n"
     ]
    }
   ],
   "source": [
    "print(X)"
   ]
  },
  {
   "cell_type": "code",
   "execution_count": 38,
   "metadata": {},
   "outputs": [],
   "source": [
    "#train model\n",
    "from sklearn.model_selection import train_test_split\n",
    "\n",
    "X_train, X_test, y_train, y_test = train_test_split(X, y, test_size = 0.2, random_state = 0)"
   ]
  },
  {
   "cell_type": "code",
   "execution_count": 42,
   "metadata": {},
   "outputs": [],
   "source": [
    "#linear regression\n",
    "from sklearn.linear_model import LinearRegression\n",
    "\n",
    "#train model\n",
    "lin_reg = LinearRegression()\n",
    "regressor = lin_reg.fit(X_train, y_train)\n",
    "\n",
    "#make predicitons\n",
    "y_pred = regressor.predict(X_test)"
   ]
  },
  {
   "cell_type": "code",
   "execution_count": 40,
   "metadata": {},
   "outputs": [
    {
     "name": "stdout",
     "output_type": "stream",
     "text": [
      "Mean Absolute Error: 8.200696576780961\n",
      "Mean Squared Error: 230.37641793423995\n",
      "Root Mean Squared Error: 2.863685837654152\n"
     ]
    }
   ],
   "source": [
    "#how accurate is my regression model\n",
    "\n",
    "from sklearn import metrics\n",
    "\n",
    "print('Mean Absolute Error:', metrics.mean_absolute_error(y_test, y_pred))\n",
    "print('Mean Squared Error:', metrics.mean_squared_error(y_test, y_pred))\n",
    "print('Root Mean Squared Error:', np.sqrt(metrics.mean_absolute_error(y_test, y_pred)))"
   ]
  },
  {
   "cell_type": "code",
   "execution_count": 47,
   "metadata": {},
   "outputs": [
    {
     "name": "stdout",
     "output_type": "stream",
     "text": [
      "Mean Absolute Error: 6.3867999999999965\n",
      "Mean Squared Error: 44.61171919999996\n",
      "Root Mean Squared Error: 2.5272119024727617\n"
     ]
    }
   ],
   "source": [
    "#knn\n",
    "from sklearn.neighbors import KNeighborsRegressor\n",
    "\n",
    "knn_reg = KNeighborsRegressor(n_neighbors = 5)\n",
    "regressor = knn_reg.fit(X_train, y_train)\n",
    "\n",
    "y_pred = regressor.predict(X_test)\n",
    "\n",
    "from sklearn import metrics\n",
    "\n",
    "print('Mean Absolute Error:', metrics.mean_absolute_error(y_test, y_pred))\n",
    "print('Mean Squared Error:', metrics.mean_squared_error(y_test, y_pred))\n",
    "print('Root Mean Squared Error:', np.sqrt(metrics.mean_absolute_error(y_test, y_pred)))"
   ]
  },
  {
   "cell_type": "code",
   "execution_count": 49,
   "metadata": {},
   "outputs": [
    {
     "name": "stdout",
     "output_type": "stream",
     "text": [
      "Mean Absolute Error: 6.4589280000001565\n",
      "Mean Squared Error: 116.50683796240124\n",
      "Root Mean Squared Error: 2.5414421102988274\n"
     ]
    }
   ],
   "source": [
    "#radom forest\n",
    "\n",
    "from sklearn.ensemble import RandomForestRegressor\n",
    "\n",
    "rf_reg = RandomForestRegressor(random_state = 42, n_estimators = 500)\n",
    "\n",
    "regressor = rf_reg.fit(X_train, y_train)\n",
    "y_pred = regressor.predict(X_test)\n",
    "\n",
    "print('Mean Absolute Error:', metrics.mean_absolute_error(y_test, y_pred))\n",
    "print('Mean Squared Error:', metrics.mean_squared_error(y_test, y_pred))\n",
    "print('Root Mean Squared Error:', np.sqrt(metrics.mean_absolute_error(y_test, y_pred)))"
   ]
  },
  {
   "cell_type": "code",
   "execution_count": 50,
   "metadata": {},
   "outputs": [
    {
     "name": "stdout",
     "output_type": "stream",
     "text": [
      "Mean Absolute Error: 18.342602488448822\n",
      "Mean Squared Error: 490.4435921951643\n",
      "Root Mean Squared Error: 4.282826460230303\n"
     ]
    }
   ],
   "source": [
    "#support vector regressiom\n",
    "\n",
    "from sklearn import svm\n",
    "svm_reg = svm.SVR()\n",
    "\n",
    "regressor = svm_reg.fit(X_train, y_train)\n",
    "y_pred = regressor.predict(X_test)\n",
    "\n",
    "print('Mean Absolute Error:', metrics.mean_absolute_error(y_test, y_pred))\n",
    "print('Mean Squared Error:', metrics.mean_squared_error(y_test, y_pred))\n",
    "print('Root Mean Squared Error:', np.sqrt(metrics.mean_absolute_error(y_test, y_pred)))"
   ]
  },
  {
   "cell_type": "code",
   "execution_count": 55,
   "metadata": {},
   "outputs": [
    {
     "data": {
      "text/plain": [
       "ID                  11\n",
       "Month         November\n",
       "Kwh                806\n",
       "Power_Cost       95.25\n",
       "Gallons           2244\n",
       "Water_Cost        30.3\n",
       "Sewer_CCF            3\n",
       "Year              2019\n",
       "Name: 10, dtype: object"
      ]
     },
     "execution_count": 55,
     "metadata": {},
     "output_type": "execute_result"
    }
   ],
   "source": [
    "#test model \n",
    "df_utl.iloc[10]\n"
   ]
  },
  {
   "cell_type": "code",
   "execution_count": 54,
   "metadata": {},
   "outputs": [
    {
     "name": "stdout",
     "output_type": "stream",
     "text": [
      "[97.57059796]\n"
     ]
    }
   ],
   "source": [
    "#linear regression\n",
    "from sklearn.linear_model import LinearRegression\n",
    "\n",
    "#train model\n",
    "lin_reg = LinearRegression()\n",
    "regressor = lin_reg.fit(X_train, y_train)\n",
    "\n",
    "rec = (X.values[10]. reshape(1, -1))\n",
    "predict_cost = regressor.predict(rec)\n",
    "print(predict_cost)"
   ]
  },
  {
   "cell_type": "code",
   "execution_count": null,
   "metadata": {},
   "outputs": [],
   "source": []
  }
 ],
 "metadata": {
  "kernelspec": {
   "display_name": "Python 3",
   "language": "python",
   "name": "python3"
  },
  "language_info": {
   "codemirror_mode": {
    "name": "ipython",
    "version": 3
   },
   "file_extension": ".py",
   "mimetype": "text/x-python",
   "name": "python",
   "nbconvert_exporter": "python",
   "pygments_lexer": "ipython3",
   "version": "3.8.5"
  }
 },
 "nbformat": 4,
 "nbformat_minor": 4
}
